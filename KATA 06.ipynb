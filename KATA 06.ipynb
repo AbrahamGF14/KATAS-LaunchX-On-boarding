{
 "cells": [
  {
   "cell_type": "code",
   "execution_count": null,
   "metadata": {},
   "outputs": [],
   "source": []
  },
  {
   "cell_type": "markdown",
   "metadata": {},
   "source": [
    "# Ejercicio1: Crear y usar listas de Python\n",
    "### Ejercicio: Usar listas para almacenar nombres de planetas"
   ]
  },
  {
   "cell_type": "code",
   "execution_count": 3,
   "metadata": {},
   "outputs": [
    {
     "name": "stdout",
     "output_type": "stream",
     "text": [
      "En el Sistema Solar hay:  8 planetas\n",
      "Pluton es el ultimo planeta\n"
     ]
    }
   ],
   "source": [
    "# Creamos la lista planets y mostramos el numero de planetas\n",
    "\n",
    "planetas = ['Mercurio', 'Venus', 'Tierra', 'Marte', 'Jupiter', 'Saturno', 'Urano', 'Neptuno']\n",
    "\n",
    "print('En el Sistema Solar hay: ', len(planetas), 'planetas')\n",
    "\n",
    "planetas.append('Pluton')\n",
    "\n",
    "print(planetas[-1], 'es el ultimo planeta')"
   ]
  },
  {
   "cell_type": "markdown",
   "metadata": {},
   "source": [
    "# Ejercicio 2: Trabajando con datos de una lista\n",
    "### Usar slices para recuperar partes de una lista"
   ]
  },
  {
   "cell_type": "code",
   "execution_count": 10,
   "metadata": {},
   "outputs": [
    {
     "name": "stdout",
     "output_type": "stream",
     "text": [
      "Los planetas mas cercanos al sol que Jupiter son: \n",
      "['Mercurio', 'Venus', 'Tierra', 'Marte']\n",
      "Los planetas mas alejados al sol que Jupiter son: \n",
      "['Saturno', 'Urano', 'Neptuno']\n"
     ]
    }
   ],
   "source": [
    "# Lista de planetas\n",
    "planetas = ['Mercurio', 'Venus', 'Tierra', 'Marte', 'Jupiter', 'Saturno', 'Urano', 'Neptuno']\n",
    "\n",
    "# Solicitamos el nombre de un planeta *Pista:  input()*\n",
    "planeta_solicitado = input('Por favor ingrese el nombre de un planeta (Empiece con una letra mayuscula)')\n",
    "\n",
    "# Busca el planeta en la lista\n",
    "buscar_planeta = planetas.index(planeta_solicitado)\n",
    "\n",
    "# Muestra los planetas más cercanos al sol\n",
    "print('Los planetas mas cercanos al sol que ' + planeta_solicitado + ' son: ')\n",
    "print(planetas[0:buscar_planeta])\n",
    "\n",
    "# Muestra los planetas más lejanos al sol\n",
    "print('Los planetas mas alejados al sol que ' + planeta_solicitado + ' son: ')\n",
    "print(planetas[buscar_planeta + 1:])"
   ]
  }
 ],
 "metadata": {
  "interpreter": {
   "hash": "1871206f4ba1b5198d3cd7c957699bf88afce606f1f605cc742ab85bcf6fb622"
  },
  "kernelspec": {
   "display_name": "Python 3.10.2 64-bit",
   "language": "python",
   "name": "python3"
  },
  "language_info": {
   "codemirror_mode": {
    "name": "ipython",
    "version": 3
   },
   "file_extension": ".py",
   "mimetype": "text/x-python",
   "name": "python",
   "nbconvert_exporter": "python",
   "pygments_lexer": "ipython3",
   "version": "3.10.2"
  },
  "orig_nbformat": 4
 },
 "nbformat": 4,
 "nbformat_minor": 2
}
