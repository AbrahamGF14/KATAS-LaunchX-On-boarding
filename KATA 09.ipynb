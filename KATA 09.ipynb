{
 "cells": [
  {
   "cell_type": "markdown",
   "metadata": {},
   "source": [
    "# Ejercicio: Uso de funciones en Python\n",
    "### Ejercicio 1: Trabajar con argumentos en funciones"
   ]
  },
  {
   "cell_type": "code",
   "execution_count": 6,
   "metadata": {},
   "outputs": [
    {
     "name": "stdout",
     "output_type": "stream",
     "text": [
      "Fuel Report:\n",
      "    Promedio Total: 50.0%\n",
      "    Tanque 1: 50%\n",
      "    Tanque 2: 50%\n",
      "    Tanque 3: 50% \n",
      "    \n",
      "Fuel Report:\n",
      "    Promedio Total: 60.0%\n",
      "    Tanque 1: 60%\n",
      "    Tanque 2: 70%\n",
      "    Tanque 3: 50%  \n",
      "    \n"
     ]
    }
   ],
   "source": [
    "# Función para leer 3 tanques de combustible y muestre el promedio\n",
    "def informe(tanque1, tanque2, tanque3):\n",
    "    promedio_total = (tanque1 + tanque2 + tanque3) / 3\n",
    "    return f\"\"\"Fuel Report:\n",
    "    Promedio Total: {promedio_total}%\n",
    "    Tanque 1: {tanque1}%\n",
    "    Tanque 2: {tanque2}%\n",
    "    Tanque 3: {tanque3}% \n",
    "    \"\"\"\n",
    "\n",
    "# Llamamos a la función que genera el reporte print(funcion(tanque1, tanque2, tanque3))\n",
    "print(informe(50, 50, 50))\n",
    "\n",
    "# Función promedio \n",
    "def promedio(valores):\n",
    "    total = sum(valores)\n",
    "    numero_elemento = len(valores)\n",
    "    return total / numero_elemento\n",
    "\n",
    "# Actualiza la función\n",
    "def informe2(tanque1, tanque2, tanque3):\n",
    "    return f\"\"\"Fuel Report:\n",
    "    Promedio Total: {promedio([tanque1, tanque2, tanque3])}%\n",
    "    Tanque 1: {tanque1}%\n",
    "    Tanque 2: {tanque2}%\n",
    "    Tanque 3: {tanque3}%  \n",
    "    \"\"\"\n",
    "print(informe2(60, 70, 50))"
   ]
  },
  {
   "cell_type": "markdown",
   "metadata": {},
   "source": [
    "# Ejercicio 2: Trabajo con argumentos de palabra clave\n",
    "### Ejercicio : Trabajar con argumentos de palabras clave en funciones"
   ]
  },
  {
   "cell_type": "code",
   "execution_count": 19,
   "metadata": {},
   "outputs": [
    {
     "name": "stdout",
     "output_type": "stream",
     "text": [
      "\n",
      "    Mision hacia: Luna\n",
      "    Tiempo total de viaje: 65 minutos\n",
      "    Total Combustible: 500000 galones\n",
      "    \n",
      "\n",
      "    Mision hacia: Luna\n",
      "    Tiempo total de viaje: 95 minutos\n",
      "    Total combustible: 500000 galones\n",
      "    \n",
      "\n",
      "    Mision hacia: Luna\n",
      "    Tiempo total de viaje: 95 minutos\n",
      "    Total combustible: 500000 galones\n",
      "          combustible tanque interno: 300000 galones\n",
      "          combustible tanque externo: 200000 galones\n",
      "    \n"
     ]
    }
   ],
   "source": [
    "# Función con un informe preciso de la misión. Considera hora de prelanzamiento, tiempo de vuelo, destino, tanque externo y tanque interno\n",
    "def informe_mision(prelanzamiento, tiempo_vuelo, destino, tanque_externo, tanque_interno):\n",
    "    return f\"\"\"\n",
    "    Mision hacia: {destino}\n",
    "    Tiempo total de viaje: {prelanzamiento + tiempo_vuelo} minutos\n",
    "    Total Combustible: {tanque_externo+ tanque_interno} galones\n",
    "    \"\"\"\n",
    "\n",
    "print(informe_mision(14, 51, \"Luna\", 200000, 300000))\n",
    "\n",
    "# Escribe tu nueva función de reporte considerando lo anterior\n",
    "def informe_mision2(destino, *minutos, **reservas_combustible):\n",
    "    return f\"\"\"\n",
    "    Mision hacia: {destino}\n",
    "    Tiempo total de viaje: {sum(minutos)} minutos\n",
    "    Total combustible: {sum(reservas_combustible.values())} galones\n",
    "    \"\"\"\n",
    "\n",
    "print(informe_mision2(\"Luna\", 14, 25, 26, 30, interno=300000, externo=200000))\n",
    "\n",
    "# Escribe tu nueva función\n",
    "def informe_mision3(destino, *minutos, **reservas_combustible):\n",
    "    reporte_principal = f\"\"\"\n",
    "    Mision hacia: {destino}\n",
    "    Tiempo total de viaje: {sum(minutos)} minutos\n",
    "    Total combustible: {sum(reservas_combustible.values())} galones\n",
    "    \"\"\"\n",
    "    for tanque, galones in reservas_combustible.items():\n",
    "        reporte_principal += f\"      combustible tanque {tanque}: {galones} galones\\n    \"\n",
    "    return reporte_principal\n",
    "\n",
    "print(informe_mision3(\"Luna\", 14, 25, 26, 30, interno=300000, externo=200000))\n"
   ]
  }
 ],
 "metadata": {
  "interpreter": {
   "hash": "1871206f4ba1b5198d3cd7c957699bf88afce606f1f605cc742ab85bcf6fb622"
  },
  "kernelspec": {
   "display_name": "Python 3.10.2 64-bit",
   "language": "python",
   "name": "python3"
  },
  "language_info": {
   "name": "python",
   "version": "3.10.2"
  },
  "orig_nbformat": 4
 },
 "nbformat": 4,
 "nbformat_minor": 2
}
